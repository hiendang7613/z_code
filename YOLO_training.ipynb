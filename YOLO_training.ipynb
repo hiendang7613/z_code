{
 "cells": [
  {
   "cell_type": "code",
   "execution_count": 2,
   "metadata": {},
   "outputs": [],
   "source": [
    "import os"
   ]
  },
  {
   "cell_type": "markdown",
   "metadata": {},
   "source": [
    "# Dataset"
   ]
  },
  {
   "cell_type": "code",
   "execution_count": 5,
   "metadata": {},
   "outputs": [],
   "source": [
    "dataset_dir = '/Users/apple/YOLO/datasets/coco8/'\n",
    "img_dir = os.path.join(dataset_dir, 'images')\n",
    "label_dir = os.path.join(dataset_dir, 'labels')\n",
    "\n",
    "train_img_dir = os.path.join(img_dir, 'train')\n",
    "val_img_dir = os.path.join(img_dir, 'val')\n",
    "list_train_filenames = [file.split('.')[0] for file in os.listdir(train_img_dir)]\n",
    "list_val_filenames = [file.split('.')[0] for file in os.listdir(val_img_dir)]"
   ]
  },
  {
   "cell_type": "code",
   "execution_count": 4,
   "metadata": {},
   "outputs": [
    {
     "data": {
      "text/plain": [
       "['000000000009', '000000000034', '000000000030', '000000000025']"
      ]
     },
     "execution_count": 4,
     "metadata": {},
     "output_type": "execute_result"
    }
   ],
   "source": [
    "list_train_filenames"
   ]
  },
  {
   "cell_type": "code",
   "execution_count": 35,
   "metadata": {},
   "outputs": [],
   "source": [
    "import torch\n",
    "from utils import LetterBox\n",
    "import numpy as np\n",
    "import cv2\n",
    "\n",
    "def pre_transform(im):\n",
    "    same_shapes = len({x.shape for x in im}) == 1\n",
    "    letterbox = LetterBox(\n",
    "        [640, 640],\n",
    "        auto=False,\n",
    "        stride=32,\n",
    "    )\n",
    "    return [letterbox(image=x) for x in im]\n",
    "\n",
    "def preprocess(im):\n",
    "    not_tensor = not isinstance(im, torch.Tensor)\n",
    "    if not_tensor:\n",
    "        im = np.stack(pre_transform(im))\n",
    "        im = im[..., ::-1].transpose((0, 3, 1, 2))  # BGR to RGB, BHWC to BCHW, (n, 3, h, w)\n",
    "        im = np.ascontiguousarray(im)  # contiguous\n",
    "        im = torch.from_numpy(im)\n",
    "\n",
    "    if not_tensor:\n",
    "        im = im / 255  # 0 - 255 to 0.0 - 1.0\n",
    "    return im\n",
    "\n",
    "class MyDataset(torch.utils.data.Dataset):\n",
    "    def __init__(self, dataset_dir, split, list_filenames, transform=None):\n",
    "        self.dataset_dir = dataset_dir\n",
    "        self.split = split\n",
    "        self.list_filenames = list_filenames\n",
    "        self.transform = transform\n",
    "        self.img_dir = os.path.join(dataset_dir, 'images', split)\n",
    "        self.label_dir = os.path.join(dataset_dir, 'labels', split)\n",
    "    \n",
    "    def __len__(self):\n",
    "        return len(self.list_filenames)\n",
    "    \n",
    "    def __getitem__(self, idx):\n",
    "        img_path = os.path.join(self.img_dir, self.list_filenames[idx] + '.jpg')\n",
    "        label_path = os.path.join(self.label_dir, self.list_filenames[idx] + '.txt')\n",
    "        img = cv2.imread(img_path)\n",
    "        img = preprocess([img])\n",
    "\n",
    "        with open(label_path, 'r') as f:\n",
    "            labels = f.readlines()\n",
    "            \n",
    "        labels = [label.strip().split() for label in labels]\n",
    "        cls = torch.tensor([int(label[0]) for label in labels])\n",
    "        box = torch.stack([torch.tensor([float(label[1]), float(label[2]), float(label[3]), float(label[4])]) for label in labels])\n",
    "        img = img.squeeze(0)\n",
    "        if self.transform:\n",
    "            img = self.transform(img)\n",
    "            \n",
    "        inputs = {\n",
    "            'img': img,\n",
    "            'cls': cls,\n",
    "            'box': box,\n",
    "        }\n",
    "        return inputs\n",
    "        \n",
    "train_dataset = MyDataset(dataset_dir, 'train', list_train_filenames)\n",
    "val_dataset = MyDataset(dataset_dir, 'val', list_val_filenames)"
   ]
  },
  {
   "cell_type": "code",
   "execution_count": 36,
   "metadata": {},
   "outputs": [],
   "source": [
    "import torch\n",
    "\n",
    "batch = {\n",
    "    'img': torch.randn(4, 3, 640, 640),\n",
    "    'cls': torch.tensor([[22., 22., 45., 45., 50., 45., 49., 49., 49., 49., 45., 45., 58., 75., 23., 23., 45., 45., 49., 49., 49., 49.]]).T,\n",
    "    'bboxes': torch.randn(22, 4),\n",
    "    'batch_idx': torch.tensor([0., 0., 1., 1., 1., 1., 1., 1., 1., 1., 1., 1., 2., 2., 3., 3., 3., 3., 3., 3., 3., 3.])\n",
    "}\n"
   ]
  },
  {
   "cell_type": "code",
   "execution_count": 37,
   "metadata": {},
   "outputs": [],
   "source": [
    "# train_dataset[0]"
   ]
  },
  {
   "cell_type": "code",
   "execution_count": 43,
   "metadata": {},
   "outputs": [],
   "source": [
    "def collate_fn(batch):\n",
    "    img = torch.stack([sample['img'] for sample in batch])\n",
    "    cls = torch.cat([sample['cls'] for sample in batch])\n",
    "    box = torch.cat([sample['box'] for sample in batch])\n",
    "    batch_idx = torch.cat([torch.tensor([i] * len(sample['cls'])) for i, sample in enumerate(batch)])\n",
    "    return {\n",
    "        'img': img,\n",
    "        'cls': cls,\n",
    "        'bboxes': box,\n",
    "        'batch_idx': batch_idx,\n",
    "    }"
   ]
  },
  {
   "cell_type": "code",
   "execution_count": 44,
   "metadata": {},
   "outputs": [],
   "source": [
    "batch = collate_fn([train_dataset[0], train_dataset[1]])"
   ]
  },
  {
   "cell_type": "code",
   "execution_count": 45,
   "metadata": {},
   "outputs": [
    {
     "data": {
      "text/plain": [
       "torch.Size([2, 3, 640, 640])"
      ]
     },
     "execution_count": 45,
     "metadata": {},
     "output_type": "execute_result"
    }
   ],
   "source": [
    "batch['img'].shape"
   ]
  },
  {
   "cell_type": "markdown",
   "metadata": {},
   "source": [
    "# Init Model"
   ]
  },
  {
   "cell_type": "code",
   "execution_count": 46,
   "metadata": {},
   "outputs": [],
   "source": [
    "import ultralytics\n",
    "args = ultralytics.utils.IterableSimpleNamespace(\n",
    "box=7.5,\n",
    "cls=0.5,\n",
    "dfl=1.5,\n",
    ")"
   ]
  },
  {
   "cell_type": "code",
   "execution_count": 48,
   "metadata": {},
   "outputs": [
    {
     "name": "stdout",
     "output_type": "stream",
     "text": [
      "Overriding model.yaml nc=80 with nc=1000\n",
      "WARNING ⚠️ no model scale passed. Assuming scale='n'.\n"
     ]
    }
   ],
   "source": [
    "from ultralytics.nn.tasks import DetectionModel\n",
    "\n",
    "model = DetectionModel(\"/Users/apple/YOLO/ultralytics/ultralytics/cfg/models/11/yolo11.yaml\", nc=1000, verbose=False )\n",
    "model.args = args\n",
    "model.criterion = model.init_criterion()\n",
    "\n",
    "loss, loss_items  = model(batch)"
   ]
  },
  {
   "cell_type": "code",
   "execution_count": null,
   "metadata": {},
   "outputs": [],
   "source": []
  },
  {
   "cell_type": "code",
   "execution_count": null,
   "metadata": {},
   "outputs": [],
   "source": []
  },
  {
   "cell_type": "code",
   "execution_count": null,
   "metadata": {},
   "outputs": [],
   "source": []
  },
  {
   "cell_type": "code",
   "execution_count": null,
   "metadata": {},
   "outputs": [],
   "source": []
  }
 ],
 "metadata": {
  "kernelspec": {
   "display_name": "Python 3",
   "language": "python",
   "name": "python3"
  },
  "language_info": {
   "codemirror_mode": {
    "name": "ipython",
    "version": 3
   },
   "file_extension": ".py",
   "mimetype": "text/x-python",
   "name": "python",
   "nbconvert_exporter": "python",
   "pygments_lexer": "ipython3",
   "version": "3.10.11"
  }
 },
 "nbformat": 4,
 "nbformat_minor": 2
}
